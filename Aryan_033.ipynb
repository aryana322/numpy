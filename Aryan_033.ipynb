{
  "cells": [
    {
      "cell_type": "markdown",
      "metadata": {
        "id": "view-in-github",
        "colab_type": "text"
      },
      "source": [
        "<a href=\"https://colab.research.google.com/github/aryana322/numpy/blob/main/Aryan_033.ipynb\" target=\"_parent\"><img src=\"https://colab.research.google.com/assets/colab-badge.svg\" alt=\"Open In Colab\"/></a>"
      ]
    },
    {
      "cell_type": "code",
      "execution_count": null,
      "metadata": {
        "id": "kBSPUQ3R85xy"
      },
      "outputs": [],
      "source": []
    },
    {
      "cell_type": "code",
      "execution_count": null,
      "metadata": {
        "colab": {
          "base_uri": "https://localhost:8080/"
        },
        "id": "9-0Ze3SR-jL4",
        "outputId": "a75f00f2-7fce-4cec-e250-e7b2c2928e00"
      },
      "outputs": [
        {
          "name": "stdout",
          "output_type": "stream",
          "text": [
            "33\n",
            "8\n"
          ]
        }
      ],
      "source": [
        "print(18+15)\n",
        "print(2**3)\n",
        "\n"
      ]
    },
    {
      "cell_type": "markdown",
      "metadata": {
        "id": "05PeaNl1CItg"
      },
      "source": [
        "## if we use single star then it will multiply and if we use double star then it will show power."
      ]
    },
    {
      "cell_type": "code",
      "execution_count": null,
      "metadata": {
        "colab": {
          "base_uri": "https://localhost:8080/"
        },
        "id": "3QImhgGtC2Im",
        "outputId": "87146fb6-8c31-4675-be03-28a0ebdf4243"
      },
      "outputs": [
        {
          "name": "stdout",
          "output_type": "stream",
          "text": [
            "0.8224300055935053\n",
            "player2\n"
          ]
        }
      ],
      "source": [
        "import random\n",
        "# x,y=2.0,3.4\n",
        "# print(\"the variable is l is:\")\n",
        "# print(x)\n",
        "# print(y)\n",
        "# print(\"this variables are {0} and {1}\".format(x,y))\n",
        "# print(\"hello \\n\"+\"world\")\n",
        "\n",
        "# num1=int(input(\"enter the number1\"))\n",
        "# num2=int(input(\"enter the number2\"))\n",
        "# z= num1+num2\n",
        "# print(z)\n",
        "# print(type(z))\n",
        "# dir(__builtins__)\n",
        "# help(eval)\n",
        "# max(3,46,9)\n",
        "min(\"hello\",\"how\",\"are\")\n",
        "z= random.random()\n",
        "print(z)\n",
        "if z<0.5:\n",
        "  print(\"player1\")\n",
        "else:\n",
        "  print(\"player2\")\n"
      ]
    },
    {
      "cell_type": "code",
      "execution_count": null,
      "metadata": {
        "colab": {
          "base_uri": "https://localhost:8080/"
        },
        "id": "vTmN2XGFHdJL",
        "outputId": "08821b93-031e-45ba-b70e-c460575fb466"
      },
      "outputs": [
        {
          "name": "stdout",
          "output_type": "stream",
          "text": [
            "3 5 3.5\n"
          ]
        }
      ],
      "source": [
        "import math\n",
        "z=math.fabs(-3.5)\n",
        "x=math.floor(3.4)\n",
        "y=math.ceil(4.5)\n",
        "\n",
        "print(x,y,z)"
      ]
    },
    {
      "cell_type": "code",
      "execution_count": null,
      "metadata": {
        "colab": {
          "base_uri": "https://localhost:8080/"
        },
        "id": "PtkbicYMLXQ8",
        "outputId": "f14f151f-bd79-4948-adcc-bd1b63ecf92a"
      },
      "outputs": [
        {
          "name": "stdout",
          "output_type": "stream",
          "text": [
            "enter the length4\n",
            "enter the breadth5\n",
            "area is 20\n",
            "area is 20\n"
          ]
        }
      ],
      "source": [
        "def rectangle(l,b):\n",
        "  a=l*b\n",
        "  print(\"area is {0}\".format(a))\n",
        "  return a\n",
        "def main():\n",
        "  length = int(input(\"enter the length\"))\n",
        "  breadth=int(input(\"enter the breadth\"))\n",
        "  z=rectangle(length,breadth)\n",
        "  print(\"area is {0}\".format(z))\n",
        "main()"
      ]
    },
    {
      "cell_type": "code",
      "execution_count": null,
      "metadata": {
        "id": "pEC5YA2fPocG"
      },
      "outputs": [],
      "source": [
        "!python /content/Module1.py"
      ]
    },
    {
      "cell_type": "code",
      "execution_count": null,
      "metadata": {
        "colab": {
          "background_save": true,
          "base_uri": "https://localhost:8080/",
          "height": 238
        },
        "id": "r8JkK2QAP_NH",
        "outputId": "7d9dea10-56f7-45b1-8486-5cefb7045526"
      },
      "outputs": [
        {
          "name": "stdout",
          "output_type": "stream",
          "text": [
            "125\n"
          ]
        }
      ],
      "source": [
        "import Module1\n",
        "z=Module1.cube(5)\n",
        "print(z)\n"
      ]
    },
    {
      "cell_type": "code",
      "source": [],
      "metadata": {
        "id": "HfPMbT3p-xPN"
      },
      "execution_count": null,
      "outputs": []
    },
    {
      "cell_type": "code",
      "source": [
        "import sqlite3\n",
        "conn=sqlite3.connect('HIT.db')\n",
        "cur=conn.cursor()\n",
        "# cur.execute('create table student4(rollno int\\\n",
        "#  primary key check(typeof(rollno) =\"integer\"),\\\n",
        "#  name varchar(23) check(typeof(name)=\"text\"),\\\n",
        "#  percentage int check(typeof(percentage) = \"integer\"));')\n",
        "# print('Table created')\n",
        "\n",
        "# cur.execute('select * from sqlite_master')\n",
        "# print(cur.fetchall())\n",
        "#inserting data into student one at a time\n",
        "\n",
        "cur.execute('insert into student values(32,\"Nida Parveen\",30)')\n",
        "cur.execute('insert into student values(34,\"Priya Singh\",36)')\n",
        "cur.execute('insert into student values(28,\"Aryan Kumar Shah\",28)')\n",
        "cur.execute('insert into student values(40,\"Altracuaz Volkovich\",34)')\n",
        "cur.execute('insert into student values(36,\"Alexandra Daddario\",38)')\n",
        "cur.execute('select * from student')\n",
        "print(cur.fetchall())"
      ],
      "metadata": {
        "colab": {
          "base_uri": "https://localhost:8080/"
        },
        "id": "Mjt4C8DLDpwS",
        "outputId": "07c6ef45-b3d1-449d-c862-7497d29c0fac"
      },
      "execution_count": 12,
      "outputs": [
        {
          "output_type": "stream",
          "name": "stdout",
          "text": [
            "[(32, 'Nida Parveen', 30), (34, 'Priya Singh', 36), (28, 'Aryan Kumar Shah', 28), (40, 'Altracuaz Volkovich', 34), (36, 'Alexandra Daddario', 38)]\n"
          ]
        }
      ]
    },
    {
      "cell_type": "code",
      "source": [
        "import sqlite3\n",
        "list1=[(12,\"abc\",89),(14,\"rty\",56),(16,\"eryu\",89)]\n",
        "conn1=sqlite3.connect('HITK4.db')\n",
        "cur1=conn1.cursor()\n",
        "cur1.execute('create table student43(rollno int\\\n",
        "primary key check(typeof(rollno) =\"integer\"),\\\n",
        "name varchar(23) check(typeof(name)=\"text\"),\\\n",
        "percentage int check(typeof(percentage) = \"integer\"));')\n",
        "cur1.executemany('insert into student43 values(?,?,?)',list1)\n",
        "cur1.execute('select * from student43')\n",
        "print(cur1.fetchall())\n",
        " "
      ],
      "metadata": {
        "colab": {
          "base_uri": "https://localhost:8080/"
        },
        "id": "aHUnzzaUOCx_",
        "outputId": "1d52845b-2f69-4d54-aaaa-95682eafc232"
      },
      "execution_count": 30,
      "outputs": [
        {
          "output_type": "stream",
          "name": "stdout",
          "text": [
            "[(12, 'abc', 89), (14, 'rty', 56), (16, 'eryu', 89)]\n"
          ]
        }
      ]
    },
    {
      "cell_type": "code",
      "source": [
        "roll1=int(input('enter roll'))\n",
        "name1=input('enter name')\n",
        "per=int(input('enter percentage'))\n",
        "cur1=conn1.cursor()\n",
        "cur1.execute('insert into student43 values(?,?,?)',(roll1,name1,per))\n",
        "cur1.execute('select count(*) from student43')\n",
        "print(cur1.fetchall())\n",
        "\n"
      ],
      "metadata": {
        "colab": {
          "base_uri": "https://localhost:8080/"
        },
        "id": "KuwaRqfIQqzF",
        "outputId": "86075f77-7f3f-43b5-d9ad-aa3957e5152d"
      },
      "execution_count": 22,
      "outputs": [
        {
          "output_type": "stream",
          "name": "stdout",
          "text": [
            "enter roll56\n",
            "enter namesuraj\n",
            "enter percentage87\n",
            "[(5,)]\n"
          ]
        }
      ]
    },
    {
      "cell_type": "code",
      "source": [
        "namee=input('enter name')\n",
        "cur1=conn1.cursor()\n",
        "cur1.execute('select * from student43 where name = :value',{'value':namee} )\n",
        "print(cur1.fetchall())"
      ],
      "metadata": {
        "colab": {
          "base_uri": "https://localhost:8080/"
        },
        "id": "JHS0N1T5WLVv",
        "outputId": "c0566056-5186-4953-f6b6-d310bfcd5392"
      },
      "execution_count": 25,
      "outputs": [
        {
          "output_type": "stream",
          "name": "stdout",
          "text": [
            "enter nameabc\n",
            "[(12, 'abc', 89)]\n"
          ]
        }
      ]
    },
    {
      "cell_type": "code",
      "source": [
        "cur1=conn1.cursor()\n",
        "z=cur1.execute('select * from student43 where name=?',(namee,))\n",
        "for i in z:\n",
        "  print(\"Roll no:\",i[0])\n",
        "  print(\"Name:\",i[1])\n",
        "\n",
        "  "
      ],
      "metadata": {
        "colab": {
          "base_uri": "https://localhost:8080/"
        },
        "id": "t1c5g_FgX2Yi",
        "outputId": "d4f7c20f-8277-4b07-f69a-70c17f0367d9"
      },
      "execution_count": 31,
      "outputs": [
        {
          "output_type": "stream",
          "name": "stdout",
          "text": [
            "Roll no: 12\n",
            "Name: abc\n"
          ]
        }
      ]
    }
  ],
  "metadata": {
    "colab": {
      "provenance": [],
      "authorship_tag": "ABX9TyM+JyIvb78pH0h6dmSFG3dc",
      "include_colab_link": true
    },
    "kernelspec": {
      "display_name": "Python 3",
      "name": "python3"
    },
    "language_info": {
      "name": "python"
    }
  },
  "nbformat": 4,
  "nbformat_minor": 0
}