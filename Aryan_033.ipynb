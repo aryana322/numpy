{
  "cells": [
    {
      "cell_type": "markdown",
      "metadata": {
        "id": "view-in-github",
        "colab_type": "text"
      },
      "source": [
        "<a href=\"https://colab.research.google.com/github/aryana322/numpy/blob/main/Aryan_033.ipynb\" target=\"_parent\"><img src=\"https://colab.research.google.com/assets/colab-badge.svg\" alt=\"Open In Colab\"/></a>"
      ]
    },
    {
      "cell_type": "code",
      "execution_count": null,
      "metadata": {
        "id": "kBSPUQ3R85xy"
      },
      "outputs": [],
      "source": []
    },
    {
      "cell_type": "code",
      "execution_count": null,
      "metadata": {
        "colab": {
          "base_uri": "https://localhost:8080/"
        },
        "id": "9-0Ze3SR-jL4",
        "outputId": "a75f00f2-7fce-4cec-e250-e7b2c2928e00"
      },
      "outputs": [
        {
          "name": "stdout",
          "output_type": "stream",
          "text": [
            "33\n",
            "8\n"
          ]
        }
      ],
      "source": [
        "print(18+15)\n",
        "print(2**3)\n",
        "\n"
      ]
    },
    {
      "cell_type": "markdown",
      "metadata": {
        "id": "05PeaNl1CItg"
      },
      "source": [
        "## if we use single star then it will multiply and if we use double star then it will show power."
      ]
    },
    {
      "cell_type": "code",
      "execution_count": null,
      "metadata": {
        "colab": {
          "base_uri": "https://localhost:8080/"
        },
        "id": "3QImhgGtC2Im",
        "outputId": "87146fb6-8c31-4675-be03-28a0ebdf4243"
      },
      "outputs": [
        {
          "name": "stdout",
          "output_type": "stream",
          "text": [
            "0.8224300055935053\n",
            "player2\n"
          ]
        }
      ],
      "source": [
        "import random\n",
        "# x,y=2.0,3.4\n",
        "# print(\"the variable is l is:\")\n",
        "# print(x)\n",
        "# print(y)\n",
        "# print(\"this variables are {0} and {1}\".format(x,y))\n",
        "# print(\"hello \\n\"+\"world\")\n",
        "\n",
        "# num1=int(input(\"enter the number1\"))\n",
        "# num2=int(input(\"enter the number2\"))\n",
        "# z= num1+num2\n",
        "# print(z)\n",
        "# print(type(z))\n",
        "# dir(__builtins__)\n",
        "# help(eval)\n",
        "# max(3,46,9)\n",
        "min(\"hello\",\"how\",\"are\")\n",
        "z= random.random()\n",
        "print(z)\n",
        "if z<0.5:\n",
        "  print(\"player1\")\n",
        "else:\n",
        "  print(\"player2\")\n"
      ]
    },
    {
      "cell_type": "code",
      "execution_count": null,
      "metadata": {
        "colab": {
          "base_uri": "https://localhost:8080/"
        },
        "id": "vTmN2XGFHdJL",
        "outputId": "08821b93-031e-45ba-b70e-c460575fb466"
      },
      "outputs": [
        {
          "name": "stdout",
          "output_type": "stream",
          "text": [
            "3 5 3.5\n"
          ]
        }
      ],
      "source": [
        "import math\n",
        "z=math.fabs(-3.5)\n",
        "x=math.floor(3.4)\n",
        "y=math.ceil(4.5)\n",
        "\n",
        "print(x,y,z)"
      ]
    },
    {
      "cell_type": "code",
      "execution_count": null,
      "metadata": {
        "colab": {
          "base_uri": "https://localhost:8080/"
        },
        "id": "PtkbicYMLXQ8",
        "outputId": "f14f151f-bd79-4948-adcc-bd1b63ecf92a"
      },
      "outputs": [
        {
          "name": "stdout",
          "output_type": "stream",
          "text": [
            "enter the length4\n",
            "enter the breadth5\n",
            "area is 20\n",
            "area is 20\n"
          ]
        }
      ],
      "source": [
        "def rectangle(l,b):\n",
        "  a=l*b\n",
        "  print(\"area is {0}\".format(a))\n",
        "  return a\n",
        "def main():\n",
        "  length = int(input(\"enter the length\"))\n",
        "  breadth=int(input(\"enter the breadth\"))\n",
        "  z=rectangle(length,breadth)\n",
        "  print(\"area is {0}\".format(z))\n",
        "main()"
      ]
    },
    {
      "cell_type": "code",
      "execution_count": null,
      "metadata": {
        "id": "pEC5YA2fPocG"
      },
      "outputs": [],
      "source": [
        "!python /content/Module1.py"
      ]
    },
    {
      "cell_type": "code",
      "execution_count": null,
      "metadata": {
        "colab": {
          "background_save": true,
          "base_uri": "https://localhost:8080/",
          "height": 238
        },
        "id": "r8JkK2QAP_NH",
        "outputId": "7d9dea10-56f7-45b1-8486-5cefb7045526"
      },
      "outputs": [
        {
          "name": "stdout",
          "output_type": "stream",
          "text": [
            "125\n"
          ]
        }
      ],
      "source": [
        "import Module1\n",
        "z=Module1.cube(5)\n",
        "print(z)\n"
      ]
    },
    {
      "cell_type": "code",
      "source": [
        "import matplotlib.pyplot as plt\n",
        "x=float(input(\"enter x coordinate:\"))\n",
        "y=float(input(\"enter y coordinate:\"))\n",
        "\n",
        "plt.plot(x,y,'ro')\n",
        "plt.show()"
      ],
      "metadata": {
        "id": "q_w1Sc9aEaVn"
      },
      "execution_count": null,
      "outputs": []
    },
    {
      "cell_type": "code",
      "source": [
        "import matplotlib.pyplot as plt\n",
        "x =[2,4,6,8,10]\n",
        "y1=[3,5,7,9,11]\n",
        "y2=[4,16,36,64,100]\n",
        "fig = plt.figure()\n",
        "plt.plot(x,y1,'c+--',markersize = 14.9,linewidth=5,label='X vs x*3')\n",
        "plt.plot(x,y2,'m<--',markersize = 14.9,linewidth=5,label='X vs x**2')\n",
        "plt.title('Multiple points in astraight line')\n",
        "plt.xlabel('X cordinate')\n",
        "plt.ylabel('Y cordinate')\n",
        "plt.legend()\n",
        "plt.axis([1,18,1,18])\n",
        "plt.grid()\n",
        "plt.show()\n",
        "fig.savefig('test1.jpg')"
      ],
      "metadata": {
        "colab": {
          "base_uri": "https://localhost:8080/",
          "height": 295
        },
        "id": "xr2A7TUiFqgp",
        "outputId": "47cdf671-e75d-4f5a-fc36-962e6096bd7b"
      },
      "execution_count": 24,
      "outputs": [
        {
          "output_type": "display_data",
          "data": {
            "text/plain": [
              "<Figure size 432x288 with 1 Axes>"
            ],
            "image/png": "[encoded data removed]"
          },
          "metadata": {
            "needs_background": "light"
          }
        }
      ]
    },
    {
      "cell_type": "markdown",
      "source": [
        "b for blue\n",
        "g for green\n",
        "k for black\n",
        "m for magenta\n",
        "r for red \n",
        "w for white\n",
        "c for cyan\n",
        "\n",
        "o for circle\n",
        ". point(default)\n",
        "v for down traingle\n",
        "* for sign\n"
      ],
      "metadata": {
        "id": "AkIsvS2uHbrB"
      }
    },
    {
      "cell_type": "markdown",
      "source": [
        "write a program to plot a list of 2d points \n",
        "write a program to plot function f(x)=x**3,f(x)=x**2,f(x)=2x+4,f(x)=4x**2+5x+4 x is a list of value taken from user and passed as a parameter to the function myplot set the limits of the axis such that x-axis will be min(x) -4, y will be max(x)+4 give appropriate legend title x level title x label and y label for plot and save the figure , set the marker size as 10.5 decimal and the line width as 2.5 decimal"
      ],
      "metadata": {
        "id": "BgHdkIkzNwMb"
      }
    },
    {
      "cell_type": "code",
      "source": [
        "import matplotlib.pyplot as plt \n",
        "x= list(map(float,input(\"enter he list numbers seperated by space \").split()))\n",
        "l1=[t**2 for t in x]\n",
        "l2=[t**3 for t in x]\n",
        "l3=[2*t+4 for t in x]\n",
        "l4=[(4*(t**2)+(5*t)+4) for t in x]\n",
        "\n",
        "plt.plot(x,l1,'c+--',markersize = 14.9,linewidth=5,label='X vs x**2')\n",
        "plt.plot(x,l2,'m<--',markersize = 14.9,linewidth=5,label='X vs x**3')\n",
        "plt.plot(x,l3,'c+--',markersize = 14.9,linewidth=5,label='X vs 2x+4')\n",
        "plt.plot(x,l4,'m<--',markersize = 14.9,linewidth=5,label='X vs 4x**2+5x+4')\n",
        "\n",
        "max=0\n",
        "for i in x:\n",
        "  if i >max:\n",
        "    max=1\n",
        "min=0\n",
        "for i in x:\n",
        "  if i<min:\n",
        "    min=i\n",
        "print(max)\n",
        "print(min)\n",
        "\n",
        "plt.title('Function')\n",
        "plt.xlabel('X cordinate')\n",
        "plt.ylabel('Y cordinate')\n",
        "plt.legend()\n",
        "#plt.axis([1,18,1,18])\n",
        "plt.grid()\n",
        "plt.show()\n"
      ],
      "metadata": {
        "colab": {
          "base_uri": "https://localhost:8080/",
          "height": 347
        },
        "id": "vG25n2ybPSov",
        "outputId": "eb33c24b-471b-4946-8350-98c6abf1d54d"
      },
      "execution_count": 25,
      "outputs": [
        {
          "output_type": "stream",
          "name": "stdout",
          "text": [
            "enter he list numbers seperated by space 1 2 3 4  5\n",
            "1\n",
            "0\n"
          ]
        },
        {
          "output_type": "display_data",
          "data": {
            "text/plain": [
              "<Figure size 432x288 with 1 Axes>"
            ],
            "image/png": "[encoded data removed]"
          },
          "metadata": {
            "needs_background": "light"
          }
        }
      ]
    }
  ],
  "metadata": {
    "colab": {
      "provenance": [],
      "authorship_tag": "ABX9TyPrVWLrpCW2Gli6vWb/gQe3",
      "include_colab_link": true
    },
    "kernelspec": {
      "display_name": "Python 3",
      "name": "python3"
    },
    "language_info": {
      "name": "python"
    }
  },
  "nbformat": 4,
  "nbformat_minor": 0
}