{
  "cells": [
    {
      "cell_type": "markdown",
      "metadata": {
        "id": "view-in-github",
        "colab_type": "text"
      },
      "source": [
        "<a href=\"https://colab.research.google.com/github/aryana322/numpy/blob/main/Aryan_033.ipynb\" target=\"_parent\"><img src=\"https://colab.research.google.com/assets/colab-badge.svg\" alt=\"Open In Colab\"/></a>"
      ]
    },
    {
      "cell_type": "code",
      "execution_count": null,
      "metadata": {
        "id": "kBSPUQ3R85xy"
      },
      "outputs": [],
      "source": []
    },
    {
      "cell_type": "code",
      "execution_count": null,
      "metadata": {
        "colab": {
          "base_uri": "https://localhost:8080/"
        },
        "id": "9-0Ze3SR-jL4",
        "outputId": "a75f00f2-7fce-4cec-e250-e7b2c2928e00"
      },
      "outputs": [
        {
          "name": "stdout",
          "output_type": "stream",
          "text": [
            "33\n",
            "8\n"
          ]
        }
      ],
      "source": [
        "print(18+15)\n",
        "print(2**3)\n",
        "\n"
      ]
    },
    {
      "cell_type": "markdown",
      "metadata": {
        "id": "05PeaNl1CItg"
      },
      "source": [
        "## if we use single star then it will multiply and if we use double star then it will show power."
      ]
    },
    {
      "cell_type": "code",
      "execution_count": null,
      "metadata": {
        "colab": {
          "base_uri": "https://localhost:8080/"
        },
        "id": "3QImhgGtC2Im",
        "outputId": "87146fb6-8c31-4675-be03-28a0ebdf4243"
      },
      "outputs": [
        {
          "name": "stdout",
          "output_type": "stream",
          "text": [
            "0.8224300055935053\n",
            "player2\n"
          ]
        }
      ],
      "source": [
        "import random\n",
        "# x,y=2.0,3.4\n",
        "# print(\"the variable is l is:\")\n",
        "# print(x)\n",
        "# print(y)\n",
        "# print(\"this variables are {0} and {1}\".format(x,y))\n",
        "# print(\"hello \\n\"+\"world\")\n",
        "\n",
        "# num1=int(input(\"enter the number1\"))\n",
        "# num2=int(input(\"enter the number2\"))\n",
        "# z= num1+num2\n",
        "# print(z)\n",
        "# print(type(z))\n",
        "# dir(__builtins__)\n",
        "# help(eval)\n",
        "# max(3,46,9)\n",
        "min(\"hello\",\"how\",\"are\")\n",
        "z= random.random()\n",
        "print(z)\n",
        "if z<0.5:\n",
        "  print(\"player1\")\n",
        "else:\n",
        "  print(\"player2\")\n"
      ]
    },
    {
      "cell_type": "code",
      "execution_count": null,
      "metadata": {
        "colab": {
          "base_uri": "https://localhost:8080/"
        },
        "id": "vTmN2XGFHdJL",
        "outputId": "08821b93-031e-45ba-b70e-c460575fb466"
      },
      "outputs": [
        {
          "name": "stdout",
          "output_type": "stream",
          "text": [
            "3 5 3.5\n"
          ]
        }
      ],
      "source": [
        "import math\n",
        "z=math.fabs(-3.5)\n",
        "x=math.floor(3.4)\n",
        "y=math.ceil(4.5)\n",
        "\n",
        "print(x,y,z)"
      ]
    },
    {
      "cell_type": "code",
      "execution_count": null,
      "metadata": {
        "colab": {
          "base_uri": "https://localhost:8080/"
        },
        "id": "PtkbicYMLXQ8",
        "outputId": "f14f151f-bd79-4948-adcc-bd1b63ecf92a"
      },
      "outputs": [
        {
          "name": "stdout",
          "output_type": "stream",
          "text": [
            "enter the length4\n",
            "enter the breadth5\n",
            "area is 20\n",
            "area is 20\n"
          ]
        }
      ],
      "source": [
        "def rectangle(l,b):\n",
        "  a=l*b\n",
        "  print(\"area is {0}\".format(a))\n",
        "  return a\n",
        "def main():\n",
        "  length = int(input(\"enter the length\"))\n",
        "  breadth=int(input(\"enter the breadth\"))\n",
        "  z=rectangle(length,breadth)\n",
        "  print(\"area is {0}\".format(z))\n",
        "main()"
      ]
    },
    {
      "cell_type": "code",
      "execution_count": null,
      "metadata": {
        "id": "pEC5YA2fPocG"
      },
      "outputs": [],
      "source": [
        "!python /content/Module1.py"
      ]
    },
    {
      "cell_type": "code",
      "execution_count": null,
      "metadata": {
        "colab": {
          "background_save": true,
          "base_uri": "https://localhost:8080/",
          "height": 238
        },
        "id": "r8JkK2QAP_NH",
        "outputId": "7d9dea10-56f7-45b1-8486-5cefb7045526"
      },
      "outputs": [
        {
          "name": "stdout",
          "output_type": "stream",
          "text": [
            "125\n"
          ]
        }
      ],
      "source": [
        "import Module1\n",
        "z=Module1.cube(5)\n",
        "print(z)\n"
      ]
    },
    {
      "cell_type": "code",
      "source": [
        "import sys,platform\n",
        "import time\n",
        "\n",
        "l1=list(range(101))\n",
        "t1=tuple(range(101))\n",
        "l1[3]=67\n",
        "\n",
        "print(sys.getsizeof(l1))\n",
        "print(sys.getsizeof(t1))\n",
        "print(l1[3])\n",
        "print(t1)\n",
        "start=time.time_ns()\n",
        "\n",
        "for i in range(len(l1)):\n",
        "  a=l1[i]\n",
        "end=time.time_ns()\n",
        "  \n",
        "print(\"Total time for list:\",end-start)\n",
        "\n",
        "#tuple\n",
        "\n",
        "start1=time.time_ns()\n",
        "for i in range(len(t1)):\n",
        "  a=t1[i]\n",
        "end1=time.time_ns()\n",
        "print(\"Total time for tuple:\",end1-start1)"
      ],
      "metadata": {
        "colab": {
          "base_uri": "https://localhost:8080/"
        },
        "id": "HfPMbT3p-xPN",
        "outputId": "d8e1cade-6dcf-48e8-e95f-527bd5aaf6e0"
      },
      "execution_count": 12,
      "outputs": [
        {
          "output_type": "stream",
          "name": "stdout",
          "text": [
            "3\n",
            "(0, 1, 2, 3, 4, 5, 6, 7, 8, 9, 10, 11, 12, 13, 14, 15, 16, 17, 18, 19, 20, 21, 22, 23, 24, 25, 26, 27, 28, 29, 30, 31, 32, 33, 34, 35, 36, 37, 38, 39, 40, 41, 42, 43, 44, 45, 46, 47, 48, 49, 50, 51, 52, 53, 54, 55, 56, 57, 58, 59, 60, 61, 62, 63, 64, 65, 66, 67, 68, 69, 70, 71, 72, 73, 74, 75, 76, 77, 78, 79, 80, 81, 82, 83, 84, 85, 86, 87, 88, 89, 90, 91, 92, 93, 94, 95, 96, 97, 98, 99, 100)\n",
            "Total time for list: 107205\n",
            "Total time for tuple: 102613\n"
          ]
        }
      ]
    },
    {
      "cell_type": "markdown",
      "source": [
        "Q. find the square root of each element of list:-\n"
      ],
      "metadata": {
        "id": "_Ku-D481Do66"
      }
    },
    {
      "cell_type": "code",
      "source": [
        "# generate a random password of length 10 such that 2 letters are uppercases 1 is  a digit one is special character ,next find out @is there \n",
        "import random\n",
        "import string \n",
        "z=string.ascii_letters\n",
        "y=string.digits\n",
        "r=string.punctuation\n",
        "print(y)\n",
        "print(z)\n",
        "print(r)\n",
        "\n",
        "s=random.sample(z,6)\n",
        "print(s)\n",
        "\n",
        "a=random.choice(s)\n",
        "print(a)\n",
        "random.shuffle(s)\n",
        "print(s)"
      ],
      "metadata": {
        "id": "uP4pQKT9HDPg"
      },
      "execution_count": null,
      "outputs": []
    },
    {
      "cell_type": "code",
      "source": [
        "\n",
        "import string\n",
        "import random\n",
        "\n",
        "u=string.ascii_uppercase\n",
        "l=string.ascii_lowercase\n",
        "d=string.digits\n",
        "s=string.punctuation\n",
        "\n",
        "ul=random.sample(u,2)\n",
        "ll=random.sample(l,6)\n",
        "dl=random.sample(d,1)\n",
        "sl=random.sample(s,1)\n",
        "\n",
        "\n",
        "ans=[]\n",
        "\n",
        "ans.append(ul)\n",
        "ans.append(ll)\n",
        "ans.append(dl)\n",
        "ans.append(sl)\n",
        "\n",
        "\n",
        "\n"
      ],
      "metadata": {
        "id": "OHTE47B_K5Gx"
      },
      "execution_count": null,
      "outputs": []
    },
    {
      "cell_type": "code",
      "source": [
        "import sys,platform\n",
        "l1=list(range(10))\n",
        "l2=tuple(range(10))\n",
        "print(sys.getsizeof(l1))\n",
        "print(sys.getsizeof(l2))\n",
        "\n",
        "for i in range(0,10):\n",
        "  l1[i]=l1[i]**2\n",
        "print(l1)\n",
        "\n",
        "print(l1.index(36))\n",
        "\n",
        "# del l1[3:]\n",
        "# print(l1)\n",
        "l1.pop(3)\n",
        "print(l1)\n"
      ],
      "metadata": {
        "colab": {
          "base_uri": "https://localhost:8080/"
        },
        "id": "S6vCj9COC5eb",
        "outputId": "2f8906cf-4df3-48ba-9a49-985e67f85891"
      },
      "execution_count": 18,
      "outputs": [
        {
          "output_type": "stream",
          "name": "stdout",
          "text": [
            "136\n",
            "120\n",
            "[0, 1, 4, 9, 16, 25, 36, 49, 64, 81]\n",
            "6\n",
            "[0, 1, 4, 16, 25, 36, 49, 64, 81]\n"
          ]
        }
      ]
    },
    {
      "cell_type": "code",
      "source": [
        "import numpy as np \n",
        "arr=np.array([1,2,3,4])\n",
        "print(arr1.dtype)\n",
        "print(arr1.shape)\n",
        "print(arr1.ndim)\n",
        "print(arr1.size)\n",
        "arr1=np.array([[1,2,4],[7,8,9]])\n",
        "print(arr1)\n",
        "arr2=np.zeros((3,4))\n",
        "print(arr2)\n",
        "arr3=np.array([[1,2,4],[4,5,8]],dtype='float')\n",
        "print(arr3)\n",
        "arr4=np.arange(0,30,5)\n",
        "print(arr4)\n",
        "arr5=np.random.random((2,4))\n",
        "print(arr5)\n",
        "arr6=np.array([2,4,6,8,9,12])\n",
        "print(arr6.ndim)\n",
        "newarr=arr6.reshape(2,3)\n",
        "print(newarr)\n",
        "\n",
        "for i in newarr:\n",
        "  for j in i:\n",
        "    print(\"the elements are :\",j)\n",
        "\n",
        "ar1=np.array([1,2,3])\n",
        "ar2=np.array([4,5,6])\n",
        "arr=np.concatenate((ar1,ar2))\n",
        "print(arr)\n",
        "x=np.where(arr==4)\n",
        "print(x)"
      ],
      "metadata": {
        "id": "bRIN_r1hQiry"
      },
      "execution_count": null,
      "outputs": []
    },
    {
      "cell_type": "code",
      "source": [
        "from numpy import random\n",
        "x=random.randint(100)\n",
        "print(x)\n",
        "for i in range (3,100):\n",
        "  x = random.randint(1000)\n",
        "y=random.rand(5)\n",
        "print(y)\n",
        "speed=[112,80,40,45,78]\n",
        "z=np.percentile(speed,75)\n",
        "print(z)\n"
      ],
      "metadata": {
        "colab": {
          "base_uri": "https://localhost:8080/"
        },
        "id": "FO8EB2x6b53v",
        "outputId": "01255a9a-9df2-492f-f095-dfb30365e744"
      },
      "execution_count": 50,
      "outputs": [
        {
          "output_type": "stream",
          "name": "stdout",
          "text": [
            "73\n",
            "[0.40583332 0.91059899 0.73093816 0.0272878  0.89966659]\n",
            "80.0\n"
          ]
        }
      ]
    },
    {
      "cell_type": "code",
      "source": [
        "#create an 2d array where an array must have sequence of numbers from 1 to 30 with a stepjump of 3 and find out all the even numbers present 1 to 30\n",
        "\n",
        "from array import array\n",
        "import numpy as np\n",
        "arr=np.arange(1,30,3)\n",
        "print(arr)\n",
        "\n",
        "b= arr.reshape((5,2))\n",
        "print(b)\n",
        "a= np.where(b%2==0)\n",
        "print(a)"
      ],
      "metadata": {
        "id": "h61s6P1-YczK"
      },
      "execution_count": null,
      "outputs": []
    }
  ],
  "metadata": {
    "colab": {
      "provenance": [],
      "authorship_tag": "ABX9TyNjFOESkDHCn6wdH7Pj71zs",
      "include_colab_link": true
    },
    "kernelspec": {
      "display_name": "Python 3",
      "name": "python3"
    },
    "language_info": {
      "name": "python"
    }
  },
  "nbformat": 4,
  "nbformat_minor": 0
}